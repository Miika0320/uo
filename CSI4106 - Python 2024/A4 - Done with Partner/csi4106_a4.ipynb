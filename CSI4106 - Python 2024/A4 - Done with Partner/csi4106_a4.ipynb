{
 "cells": [
  {
   "cell_type": "markdown",
   "metadata": {},
   "source": [
    "# **CSI 4106 Introduction to Artificial Intelligence**\n",
    "## **Assignment 4: Heuristic Search**\n",
    "\n",
    "### Identification\n",
    "\n",
    "Name: Cole Stevens<br/>\n",
    "Student Number: 300171413\n",
    "\n",
    "Name: Mikaela Dobie<br/>\n",
    "Student Number: 300164161\n",
    "\n",
    "<br/>\n",
    "<hr/>"
   ]
  },
  {
   "cell_type": "markdown",
   "metadata": {},
   "source": [
    "## **Overview**\n",
    "\n",
    "The **Traveling Salesman Problem (TSP)** is a classic optimization problem in computer science and operations research. Given a set of cities and the distances between them, the goal is to find the shortest possible route that visits each city exactly once and returns to the starting city. Despite its simple formulation, solving TSP is computationally challenging because the number of possible routes grows factorially with the number of cities.\n",
    "\n",
    "TSP is classified as an NP-hard problem, meaning there is no known efficient algorithm to solve it optimally for large instances. This complexity, combined with its practical importance in fields like logistics, manufacturing, and circuit design, has made TSP a benchmark problem for evaluating optimization algorithms.\n",
    "\n",
    "In this assignment, you will explore three different approaches to tackling TSP:\n",
    "\n",
    "- **Greedy Algorithm**: A heuristic method that builds a solution incrementally by choosing locally optimal decisions.\n",
    "- **Simulated Annealing (SA)**: A probabilistic algorithm inspired by the annealing process in metallurgy.\n",
    "- **Genetic Algorithm (GA)**: An evolutionary algorithm that mimics natural selection to iteratively improve solutions.\n",
    "\n",
    "The final deliverable for this assignment will be a Jupyter Notebook documenting your implementation, results, and observations for each approach.\n",
    "\n",
    "## **Learning Objectives**\n",
    "\n",
    "- **Explore** and **implement** different search-based algorithms.\n",
    "- **Develop** a Simulated Annealing algorithm with an effective strategy for setting the initial temperature.\n",
    "- **Adapt** and **apply** a Genetic Algorithm for solving the TSP.\n",
    "- **Analyze** and **evaluate** the performance of each algorithm against known optimal solutions.\n",
    "\n",
    "## Submission \n",
    "\n",
    "- **Deadline:**\n",
    "   - Submit your notebook by December 4, 11 PM.\n",
    "- **Individual or Group Assignment:**\n",
    "   - This assignment may be undertaken either individually (group of 1 student) or collaboratively in pairs (group of 2 students)\n",
    "   - A group must submit a single joint submission.\n",
    "   - Prior to submitting, it is necessary to **register your group** on Brightspace.\n",
    "- **Submission Platform:**\n",
    "   - Upload your submission to Brightspace under the Assignment section (Assignment 4).\n",
    "- **Submission Format:**\n",
    "   - Submit a copy of your notebook on Brightspace.\n",
    "\n",
    "**Important Notice:** If the corrector cannot run your code, your submission will receive a mark of zero. It is your responsibility to ensure that your submission works from a different computer than your own and that all cells in your notebook are executable.\n",
    "\n",
    "## **Datasets**\n",
    "\n",
    "The datasets utilized in this assignment are sourced from the [TSPLIB GitHub Repository](https://github.com/mastqe/tsplib), which provides standard benchmark instances for the Traveling Salesman Problem (TSP). These datasets are defined as **Euclidean**, meaning that the distance between any two cities is calculated using the Euclidean metric based on their coordinates.\n",
    "\n",
    "For your tests, you will employ the **berlin52-24-4** and **st70-24** datasets. Each of these is a subset consisting of 24 cities from the respective problems. The lower bound on cost for these instances has been determined using dynamic programming, specifically the Held-Karp algorithm.\n",
    "\n",
    "1. **berlin52-24-4**:\n",
    "   - Number of Cities: 24\n",
    "   - Optimal Solution Cost: **5890.92**\n",
    "\n",
    "2. **st70-24-4**:\n",
    "   - Number of Cities: 24\n",
    "   - Optimal Solution Cost: **468.88**\n",
    "\n",
    "These datasets are intended for evaluating the performance of your algorithms, enabling you to compare your results with established optimal solutions. The data is accessible on GitHub at the following link: [here](https://github.com/turcotte/csi4106-f24/tree/main/assignments-data/a4). Additionally, the `extra` subfolder contains supplementary problems that may assist you in completing this assignment.\n",
    "\n",
    "For the optional bonus question, you will work with the following two datasets:\n",
    "\n",
    "3. **berlin52**:\n",
    "   - Number of Cities: 52\n",
    "   - Description: A medium-sized dataset with realistic spatial distribution of cities.\n",
    "   - Optimal Solution Cost: **7542**\n",
    "\n",
    "4. **st70**:\n",
    "   - Number of Cities: 70\n",
    "   - Description: A slightly larger dataset with increased complexity.\n",
    "   - Optimal Solution Cost: **675**\n",
    "\n",
    "<br>\n",
    "<hr/>"
   ]
  },
  {
   "cell_type": "markdown",
   "metadata": {},
   "source": [
    "## **0. Given Code**\n",
    "\n",
    "Here is a Jupyter Notebook featuring greedy algorithms and a genetic algorithm for solving the 0/1 knapsack problem.\n",
    "\n",
    "<a target=\"_blank\" href=\"https://colab.research.google.com/github/turcotte/csi4106-f24/blob/main/notebooks/lectures/16/knapsack.ipynb\"> <img src=\"https://colab.research.google.com/assets/colab-badge.svg\" alt=\"Open In Colab\"/> </a>\n",
    "\n",
    "The following two lectures may be useful for this assignment.\n",
    "\n",
    "- [Lecture 15](https://turcotte.xyz/teaching/csi-4106/lectures/15/slides.html) (simulated annealing)\n",
    "- [Lecture 16](https://turcotte.xyz/teaching/csi-4106/lectures/16/slides.html) (genetic algorithm)"
   ]
  },
  {
   "cell_type": "markdown",
   "metadata": {},
   "source": [
    "### 0.1. Imports"
   ]
  },
  {
   "cell_type": "code",
   "execution_count": 339,
   "metadata": {
    "ExecuteTime": {
     "end_time": "2024-12-01T21:41:22.859102Z",
     "start_time": "2024-12-01T21:41:22.856753Z"
    }
   },
   "outputs": [],
   "source": [
    "# Imports needed for the assignment go here:\n",
    "\n",
    "import numpy as np\n",
    "import pandas as pd\n",
    "import requests\n",
    "import math\n",
    "import time"
   ]
  },
  {
   "cell_type": "markdown",
   "metadata": {},
   "source": [
    "### 0.2. Read the TSP Files\n",
    "\n",
    "A function to read TSP files from a website."
   ]
  },
  {
   "cell_type": "code",
   "execution_count": 340,
   "metadata": {
    "ExecuteTime": {
     "end_time": "2024-12-01T21:41:23.025822Z",
     "start_time": "2024-12-01T21:41:23.022057Z"
    }
   },
   "outputs": [],
   "source": [
    "def read_tsp(url):\n",
    "\n",
    "    \"\"\"\n",
    "    Reads a .tsp file from a given URL and returns a NumPy array of coordinates.\n",
    "\n",
    "    Parameters:\n",
    "    -----------\n",
    "    url : str\n",
    "        The URL of the .tsp file.\n",
    "\n",
    "    Returns:\n",
    "    --------\n",
    "    coordinates : ndarray\n",
    "        A NumPy array of coordinates extracted from the .tsp file.\n",
    "\n",
    "    Description:\n",
    "    ------------\n",
    "    This function fetches the content of a .tsp file from a specified URL and parses it to extract the city coordinates.\n",
    "    It looks for the 'NODE_COORD_SECTION' in the file to start reading coordinates and stops when it reaches 'EOF'.\n",
    "    The function handles potential errors by checking the HTTP response status and ensures that the coordinates are\n",
    "    correctly parsed into floating-point numbers.\n",
    "\n",
    "    Example:\n",
    "    --------\n",
    "    >>> url = 'https://raw.githubusercontent.com/turcotte/csi4106-f24/main/assignments-data/a4/berlin52-24-4.tsp'\n",
    "    >>> coordinates = read_tsp(url)\n",
    "    >>> print(coordinates)\n",
    "    [[37.7692, -122.4443],\n",
    "     [37.7689, -122.4240],\n",
    "     ...\n",
    "     [37.7793, -122.4192]]\n",
    "    \"\"\"\n",
    "\n",
    "    try:\n",
    "        # Fetch the content from the URL\n",
    "        response = requests.get(url)\n",
    "        response.raise_for_status()  # Raise an HTTPError for bad responses (4xx or 5xx)\n",
    "       \n",
    "        # Split the content into lines\n",
    "        lines = response.text.splitlines()\n",
    "\n",
    "        # Initialize a list to store the coordinates\n",
    "        coordinates = []\n",
    "\n",
    "        # Start reading after the NODE_COORD_SECTION line\n",
    "        node_section = False\n",
    "        for line in lines:\n",
    "            line = line.strip()\n",
    "            if line == \"NODE_COORD_SECTION\":\n",
    "                node_section = True\n",
    "                continue\n",
    "            elif line == \"EOF\":\n",
    "                break\n",
    "\n",
    "            if node_section:\n",
    "                # Split the line into parts and convert to float\n",
    "                parts = line.split()\n",
    "                if len(parts) >= 3:\n",
    "                    # Some files include node indices, so we take the last two entries as coordinates\n",
    "                    x, y = float(parts[-2]), float(parts[-1])\n",
    "                    coordinates.append((x, y))\n",
    "\n",
    "        # Convert the list of coordinates to a NumPy array\n",
    "        return np.array(coordinates)\n",
    "\n",
    "    except requests.exceptions.RequestException as e:\n",
    "        print(f\"An error occurred while fetching the TSP file: {e}\")\n",
    "        return None\n",
    "    except ValueError as e:\n",
    "        print(f\"An error occurred while parsing the coordinates: {e}\")\n",
    "        return None"
   ]
  },
  {
   "cell_type": "code",
   "execution_count": 380,
   "metadata": {
    "ExecuteTime": {
     "end_time": "2024-12-01T21:41:23.327007Z",
     "start_time": "2024-12-01T21:41:23.038606Z"
    }
   },
   "outputs": [],
   "source": [
    "URL = 'https://raw.githubusercontent.com/turcotte/csi4106-f24/main/assignments-data/a4/'\n",
    "\n",
    "berlin52_24_4 = read_tsp(URL + 'berlin52-24-4.tsp')\n",
    "st70_24_4 = read_tsp(URL + 'st70-24-4.tsp')\n",
    "\n",
    "berlin52 = read_tsp(URL + 'berlin52.tsp')\n",
    "st70 = read_tsp(URL + 'st70.tsp')"
   ]
  },
  {
   "cell_type": "markdown",
   "metadata": {},
   "source": [
    "The following function accepts the coordinates of the cities as input and outputs a distance matrix."
   ]
  },
  {
   "cell_type": "code",
   "execution_count": 342,
   "metadata": {
    "ExecuteTime": {
     "end_time": "2024-12-01T21:41:23.331070Z",
     "start_time": "2024-12-01T21:41:23.328343Z"
    }
   },
   "outputs": [],
   "source": [
    "def get_distance_matrix(coordinates):\n",
    "\n",
    "    \"\"\"\n",
    "        Takes coordinates input and returns distance matrix\n",
    "        Input: coordinates (nn.array) - the input coordinates\n",
    "        Output: distance_matrix (np.array) - the (num_cities x num_cities) distance matrix\n",
    "    \"\"\"\n",
    "\n",
    "    num_cities = len(coordinates)\n",
    "    distance_matrix = np.zeros((num_cities, num_cities))\n",
    "\n",
    "    for i in range(num_cities):\n",
    "        for j in range(num_cities):\n",
    "            distance_matrix[i][j] = np.linalg.norm(coordinates[i] - coordinates[j])\n",
    "            \n",
    "    return distance_matrix "
   ]
  },
  {
   "cell_type": "markdown",
   "metadata": {},
   "source": [
    "The following functions may assist in visualizing results and debugging your programs."
   ]
  },
  {
   "cell_type": "code",
   "execution_count": 343,
   "metadata": {
    "ExecuteTime": {
     "end_time": "2024-12-01T21:41:23.340218Z",
     "start_time": "2024-12-01T21:41:23.331986Z"
    }
   },
   "outputs": [],
   "source": [
    "import matplotlib.pyplot as plt\n",
    "\n",
    "def plot_cities(coordinates, title=\"Cities in the Traveling Salesman Problem\"):\n",
    "\n",
    "    \"\"\"\n",
    "    Plots the given coordinates representing cities.\n",
    "    \n",
    "    Parameters:\n",
    "    - coordinates: A 2D NumPy array of shape (n, 2) representing the (x, y) coordinates.\n",
    "    - title: Title for the plot.\n",
    "    \"\"\"\n",
    "\n",
    "    # Extract x and y coordinates\n",
    "    x = coordinates[:, 0]\n",
    "    y = coordinates[:, 1]\n",
    "\n",
    "    plt.figure(figsize=(6, 6))\n",
    "\n",
    "    # Plot the cities as red dots\n",
    "    plt.scatter(x, y, c='red', zorder=2)\n",
    "\n",
    "    # Annotate the cities with their indices\n",
    "    for i, (xi, yi) in enumerate(zip(x, y)):\n",
    "        plt.annotate(str(i + 1), (xi, yi), textcoords=\"offset points\", xytext=(0, 5), ha='center')\n",
    "\n",
    "    # Set title and labels\n",
    "    plt.title(title)\n",
    "    plt.xlabel('X Coordinate')\n",
    "    plt.ylabel('Y Coordinate')\n",
    "    plt.grid(True)\n",
    "    plt.axis('equal')  # Equal scaling for x and y axes\n",
    "    plt.show()"
   ]
  },
  {
   "cell_type": "code",
   "execution_count": 344,
   "metadata": {
    "ExecuteTime": {
     "end_time": "2024-12-01T21:41:23.432010Z",
     "start_time": "2024-12-01T21:41:23.341554Z"
    }
   },
   "outputs": [
    {
     "data": {
      "image/png": "[encoded data removed]",
      "text/plain": [
       "<Figure size 600x600 with 1 Axes>"
      ]
     },
     "metadata": {},
     "output_type": "display_data"
    }
   ],
   "source": [
    "plot_cities(berlin52_24_4, title='Cities for berlin52_24_4.tsp')"
   ]
  },
  {
   "cell_type": "code",
   "execution_count": 345,
   "metadata": {
    "ExecuteTime": {
     "end_time": "2024-12-01T21:41:23.525630Z",
     "start_time": "2024-12-01T21:41:23.433074Z"
    }
   },
   "outputs": [
    {
     "data": {
      "image/png": "[encoded data removed]",
      "text/plain": [
       "<Figure size 600x600 with 1 Axes>"
      ]
     },
     "metadata": {},
     "output_type": "display_data"
    }
   ],
   "source": [
    "plot_cities(st70_24_4, title='Cities for st70_24_4.tsp')"
   ]
  },
  {
   "cell_type": "code",
   "execution_count": 346,
   "metadata": {
    "ExecuteTime": {
     "end_time": "2024-12-01T21:41:23.531045Z",
     "start_time": "2024-12-01T21:41:23.527017Z"
    }
   },
   "outputs": [],
   "source": [
    "def plot_tsp_path(coordinates, path=None, title=\"Traveling Salesman Problem\"):\n",
    "\n",
    "    \"\"\"\n",
    "    Plots the given coordinates and optionally a path for the TSP.\n",
    "    \n",
    "    Parameters:\n",
    "    - coordinates: A 2D NumPy array of shape (n, 2) representing the (x, y) coordinates.\n",
    "    - path: A list or array of indices representing the order of visiting the nodes. If None, nodes are connected in input order.\n",
    "    - title: Title for the plot.\n",
    "    \"\"\"\n",
    "\n",
    "    # Extract x and y coordinates\n",
    "    x = coordinates[:, 0]\n",
    "    y = coordinates[:, 1]\n",
    "\n",
    "    plt.figure(figsize=(6, 6))\n",
    "\n",
    "    # If a path is given, reorder the coordinates\n",
    "    if path is not None:\n",
    "        x = x[path]\n",
    "        y = y[path]\n",
    "    \n",
    "    # Plot the nodes\n",
    "    plt.scatter(x, y, c='red', zorder=2)\n",
    "\n",
    "    # Annotate the nodes with their indices\n",
    "    for i, (xi, yi) in enumerate(zip(x, y)):\n",
    "        plt.annotate(str(i + 1), (xi, yi), textcoords=\"offset points\", xytext=(0, 5), ha='center')\n",
    "\n",
    "    # Plot the path\n",
    "    plt.plot(x, y, 'b-', zorder=1)\n",
    "\n",
    "    # If a path is provided, connect the last point to the first to complete the tour\n",
    "    if path is not None:\n",
    "        plt.plot([x[-1], x[0]], [y[-1], y[0]], 'b-', zorder=1)\n",
    "\n",
    "    # Set title and labels\n",
    "    plt.title(title)\n",
    "    plt.xlabel('X Coordinate')\n",
    "    plt.ylabel('Y Coordinate')\n",
    "    plt.grid(True)\n",
    "    plt.axis('equal')  # Equal scaling for x and y axes\n",
    "    plt.show()"
   ]
  },
  {
   "cell_type": "code",
   "execution_count": 347,
   "metadata": {},
   "outputs": [
    {
     "data": {
      "image/png": "[encoded data removed]",
      "text/plain": [
       "<Figure size 600x600 with 1 Axes>"
      ]
     },
     "metadata": {},
     "output_type": "display_data"
    }
   ],
   "source": [
    "plot_tsp_path(berlin52_24_4)"
   ]
  },
  {
   "cell_type": "code",
   "execution_count": null,
   "metadata": {},
   "outputs": [],
   "source": []
  },
  {
   "cell_type": "code",
   "execution_count": 348,
   "metadata": {},
   "outputs": [
    {
     "data": {
      "image/png": "[encoded data removed]",
      "text/plain": [
       "<Figure size 600x600 with 1 Axes>"
      ]
     },
     "metadata": {},
     "output_type": "display_data"
    }
   ],
   "source": [
    "plot_tsp_path(st70_24_4)"
   ]
  },
  {
   "cell_type": "markdown",
   "metadata": {},
   "source": [
    "<hr/>\n",
    "\n",
    "## 1. Implement the Algorithms"
   ]
  },
  {
   "cell_type": "markdown",
   "metadata": {},
   "source": [
    "### 1.1. Implement a solver for the TSP using Greedy Algorithm\n",
    "\n",
    "The **nearest neighbor heuristic** is a greedy algorithm used to find a feasible solution to the Traveling Salesman Problem (TSP). \n",
    "- The process begins by selecting a starting city and iteratively visiting the nearest unvisited city until all cities are visited. The tour is completed by returning to the starting point. \n",
    "- This procedure is repeated for each city as the initial starting point, and the shortest resulting tour is selected. \n",
    "- The algorithm strictly evaluates only valid routes, ensuring each city is visited exactly once. \n",
    "- While this approach efficiently constructs a feasible TSP solution, it does not ensure an optimal solution."
   ]
  },
  {
   "cell_type": "code",
   "execution_count": 349,
   "metadata": {
    "ExecuteTime": {
     "end_time": "2024-12-01T21:41:23.541608Z",
     "start_time": "2024-12-01T21:41:23.532675Z"
    }
   },
   "outputs": [],
   "source": [
    "def tsp_greedy(cities, starting_city=0):\n",
    "    # Obtaining a distance matrix for the provided list of city coordinates\n",
    "    city_distances = get_distance_matrix(cities)\n",
    "    # Creating a list that tracks the visited status of every city\n",
    "    visited_cities = [False] * len(cities)\n",
    "    # Creating a list to track the path we take between cities\n",
    "    city_order = []\n",
    "    # We will start at the first city in the list and go from there\n",
    "    current_city = starting_city \n",
    "    city_order.append(current_city)\n",
    "    visited_cities[current_city] = True\n",
    "    # Using a greedy heuristic to select which cities to travel to next\n",
    "    while len(city_order) < len(cities):\n",
    "        # Establishing which (unvisited) city is closest to the current_city\n",
    "        closest_city = None\n",
    "        closest_city_distance = float('inf')\n",
    "        for city in range(len(cities)):\n",
    "            if not visited_cities[city] and city_distances[current_city][city] < closest_city_distance:\n",
    "                closest_city, closest_city_distance = city, city_distances[current_city][city]\n",
    "        # Traveling to the closest, non-visited city\n",
    "        city_order.append(closest_city)\n",
    "        visited_cities[closest_city] = True\n",
    "        current_city = closest_city\n",
    "    # At the very end we travel back to the original city\n",
    "    city_order.append(city_order[0])\n",
    "    return city_order"
   ]
  },
  {
   "cell_type": "markdown",
   "metadata": {},
   "source": [
    "### 1.2. Implement a solver for the TSP using Simulated Annealing\n",
    "\n",
    "For the implementation of Simulated Annealing (SA) algorithm below, **implement a strategy to determine the initial temperature for the search**.\n",
    "\n",
    "**Suggestions**:\n",
    "- Calculate the cost of a random tour and set an initial temperature such that the acceptance rate of new solutions is between 60% and 80%.\n",
    "- Alternatively, perform a few preliminary iterations of the SA algorithm, gradually reducing the temperature until the acceptance rate achieves the desired range of 60% to 80%. Then, restart with this temperature.\n",
    "\n",
    "Specifically, you need to finalize the implementation of the `get_initial_temperature` method below."
   ]
  },
  {
   "cell_type": "code",
   "execution_count": 350,
   "metadata": {
    "ExecuteTime": {
     "end_time": "2024-12-01T21:41:23.551192Z",
     "start_time": "2024-12-01T21:41:23.542890Z"
    }
   },
   "outputs": [],
   "source": [
    "def calculate_total_distance(route, distance_matrix):\n",
    "\n",
    "    \"\"\"\n",
    "    Calculate the total distance of a given route based on the distance matrix.\n",
    "\n",
    "    Parameters:\n",
    "    -----------\n",
    "    route : ndarray\n",
    "        An array representing the order of cities in the route (a permutation of city indices).\n",
    "    distance_matrix : ndarray\n",
    "        A square matrix where entry (i, j) represents the distance between city i and city j.\n",
    "\n",
    "    Returns:\n",
    "    --------\n",
    "    total_distance : float\n",
    "        The total distance of the route, including the return to the starting city.\n",
    "\n",
    "    Description:\n",
    "    ------------\n",
    "    The function computes the sum of distances between consecutive cities in the route\n",
    "    and adds the distance from the last city back to the first city to complete the tour.\n",
    "    It assumes that the distance matrix is symmetric and non-negative.\n",
    "    \"\"\"\n",
    "    \n",
    "    total_distance = 0\n",
    "\n",
    "    for i in range(len(route) - 1):\n",
    "        total_distance += distance_matrix[route[i], route[i + 1]]\n",
    "\n",
    "    total_distance += distance_matrix[route[-1], route[0]]  # Back to start\n",
    "\n",
    "    return total_distance"
   ]
  },
  {
   "cell_type": "code",
   "execution_count": 351,
   "metadata": {
    "ExecuteTime": {
     "end_time": "2024-12-01T21:41:23.561216Z",
     "start_time": "2024-12-01T21:41:23.552649Z"
    }
   },
   "outputs": [],
   "source": [
    "def get_neighbor(route):\n",
    "\n",
    "    \"\"\"\n",
    "    Generate a neighboring solution by reversing a random segment of the route.\n",
    "\n",
    "    Parameters:\n",
    "    -----------\n",
    "    route : ndarray\n",
    "        An array representing the current route (a permutation of city indices).\n",
    "\n",
    "    Returns:\n",
    "    --------\n",
    "    new_route : ndarray\n",
    "        A new route obtained by reversing the segment between two randomly chosen indices.\n",
    "\n",
    "    Description:\n",
    "    ------------\n",
    "    This method selects two random indices, `a` and `b`, within the route and reverses the\n",
    "    segment between them (inclusive). It is commonly used in optimization algorithms like \n",
    "    Simulated Annealing to explore neighboring solutions in the search space.\n",
    "    \"\"\"\n",
    "\n",
    "    a, b = np.random.randint(0, len(route), size=2)\n",
    "\n",
    "    if a > b:\n",
    "        a, b = b, a\n",
    "\n",
    "    new_route = route.copy()\n",
    "    new_route[a:b+1] = new_route[a:b+1][::-1]  # Reverse the segment between a and b\n",
    "    \n",
    "    return new_route"
   ]
  },
  {
   "cell_type": "markdown",
   "metadata": {},
   "source": [
    "Finalize the implementation of the `get_initial_temperature` method. You may introduce additional parameters to the function definition as needed; ensure that any modifications are consistently reflected in all methods that invoke this function."
   ]
  },
  {
   "cell_type": "markdown",
   "metadata": {
    "collapsed": false
   },
   "source": [
    "We have chosen to implement the strategy that was mentioned earlier:\n",
    "\n",
    "\"Calculate the cost of a random tour and set an initial temperature such that the acceptance rate of new solutions is between 60% and 80%.\"\n",
    "\n",
    "To do this, we will run a pre-provided number of iterations. In each iteration, we pick a random city from the list and compute its cost compared to the neighbour's cost. If the cost is worse, we add it to the list, since Simulated Annealing has to do with accepting worse situations in the hopes of achieving a better overall outcome. We then compute the average of the worse-r overall outcomes and use that as our ΔE when attempting to compute the initial temperature, which can be derived from the Boltzmann Distribution in the following way:\n",
    "\n",
    "P = e^(ΔE/T)\n",
    "ln(P) = (ΔE/T)*ln(e) = (ΔE/T)*1\n",
    "1/ln(P) = T/ΔE\n",
    "T = ΔE/ln(P)\n",
    "\n",
    "Therefore, we can define P as being a figure between 0.6 and 0.8 (default 0.7) and we compute the initial temperature that way."
   ]
  },
  {
   "cell_type": "code",
   "execution_count": 352,
   "metadata": {
    "ExecuteTime": {
     "end_time": "2024-12-01T21:41:23.568926Z",
     "start_time": "2024-12-01T21:41:23.563150Z"
    }
   },
   "outputs": [],
   "source": [
    "def get_initial_temperature(distance_matrix, iterations=100, prob=0.7):\n",
    "\n",
    "    \"\"\"\n",
    "    Estimate an initial temperature for the Simulated Annealing algorithm.\n",
    "\n",
    "    Parameters:\n",
    "    -----------\n",
    "    distance_matrix : ndarray\n",
    "        A square matrix where entry (i, j) represents the distance between city i and city j.\n",
    "\n",
    "    Returns:\n",
    "    --------\n",
    "    initial_temp : float\n",
    "        The estimated initial temperature to achieve the specified acceptance rate.\n",
    "\n",
    "    Description:\n",
    "    ------------\n",
    "    The function:\n",
    "        - Determines the initial temperature for the Simulated Annealing algorithm based on a\n",
    "          rearrangement of the Boltzmann distribution. \n",
    "        - Takes a number of trials where it compares the cost difference between the initial \n",
    "          city and a neighbouring city, and adds the outcome to a list if it is worse.\n",
    "        - Computes ΔE by averaging all immediately worse outcomes, and uses this to compute what\n",
    "          the initial temperature should be for 'prob'% of worse situations to be accepted at \n",
    "          first. \n",
    "    \"\"\"\n",
    "    \n",
    "    delta_e_list = []\n",
    "    \n",
    "    for _ in range(iterations):\n",
    "        # Generating a random route and calculating the tour's cost\n",
    "        route = np.random.permutation(len(distance_matrix))\n",
    "        route_cost = calculate_total_distance(route, distance_matrix)\n",
    "        # Calculating ΔE as value(neighbour) - value(current)\n",
    "        neighbour = get_neighbor(route)\n",
    "        neighbour_cost = calculate_total_distance(neighbour, distance_matrix)\n",
    "        delta_e = route_cost - neighbour_cost\n",
    "        # If the outcome is worse than the original, we keep add it to the list\n",
    "        if delta_e > 0: delta_e_list.append(delta_e)\n",
    "    \n",
    "    # Computing the average ΔE from the collected worse situations\n",
    "    avg_delta_e = np.mean(delta_e_list) if delta_e_list else 0.1\n",
    "    \n",
    "    # Computing the initial temperature via the Boltzmann distribution\n",
    "    initial_temp = avg_delta_e/np.log(prob)\n",
    "    \n",
    "    return initial_temp"
   ]
  },
  {
   "cell_type": "code",
   "execution_count": 353,
   "metadata": {
    "ExecuteTime": {
     "end_time": "2024-12-01T21:41:23.578875Z",
     "start_time": "2024-12-01T21:41:23.569939Z"
    }
   },
   "outputs": [],
   "source": [
    "def simulated_annealing(distance_matrix, initial_temp, cooling_rate, max_iterations):\n",
    "\n",
    "    \"\"\"\n",
    "    Perform the Simulated Annealing algorithm to approximate a solution for the Traveling Salesman Problem (TSP).\n",
    "\n",
    "    Parameters:\n",
    "    -----------\n",
    "    distance_matrix : ndarray\n",
    "        A square matrix where entry (i, j) represents the distance between city i and city j.\n",
    "    initial_temp : float\n",
    "        The initial temperature for the annealing process.\n",
    "    cooling_rate : float\n",
    "        The rate at which the temperature decreases, typically a value between 0 and 1.\n",
    "    max_iterations : int\n",
    "        The maximum number of iterations to perform.\n",
    "\n",
    "    Returns:\n",
    "    --------\n",
    "    best_route : ndarray\n",
    "        The order of cities in the best (shortest) route found.\n",
    "    best_cost : float\n",
    "        The total distance of the best route.\n",
    "    temperatures : list\n",
    "        A list of temperature values at each iteration, useful for analysis or plotting.\n",
    "    costs : list\n",
    "        A list of route costs (distances) at each iteration, useful for analysis or plotting.\n",
    "\n",
    "    Description:\n",
    "    ------------\n",
    "    Simulated Annealing (SA) is a probabilistic optimization algorithm inspired by the annealing process in metallurgy. \n",
    "    This implementation:\n",
    "    - Starts with a random route and iteratively improves it.\n",
    "    - Accepts worse solutions with a probability dependent on the temperature to escape local minima.\n",
    "    - Reduces the temperature gradually to focus on exploitation as the algorithm progresses.\n",
    "    - Returns the best route found along with intermediate data for analysis.\n",
    "\n",
    "    \"\"\"\n",
    "\n",
    "    num_cities = len(distance_matrix)\n",
    "    current_route = np.arange(num_cities)\n",
    "    np.random.shuffle(current_route)\n",
    "    current_cost = calculate_total_distance(current_route, distance_matrix)\n",
    "    \n",
    "    best_route = current_route.copy()\n",
    "    best_cost = current_cost\n",
    "\n",
    "    temperatures = []\n",
    "    costs = []\n",
    "\n",
    "    temperature = initial_temp\n",
    "\n",
    "    # Collect intermediate solutions\n",
    "    intermediate_solutions = []\n",
    "    \n",
    "    for iteration in range(max_iterations):\n",
    "\n",
    "        neighbor_route = get_neighbor(current_route)\n",
    "        neighbor_cost = calculate_total_distance(neighbor_route, distance_matrix)\n",
    "        \n",
    "        # Accept neighbor if it's better, or with a probability if it's worse\n",
    "        if neighbor_cost < current_cost or np.random.rand() < np.exp(-(neighbor_cost - current_cost) / temperature):\n",
    "            current_route = neighbor_route\n",
    "            current_cost = neighbor_cost\n",
    "\n",
    "            if current_cost < best_cost:\n",
    "                best_route = current_route.copy()\n",
    "                best_cost = current_cost\n",
    "\n",
    "        # Store temperature and cost for plotting\n",
    "        temperatures.append(temperature)\n",
    "        costs.append(current_cost)\n",
    "\n",
    "        # Cool down the temperature\n",
    "        temperature *= cooling_rate\n",
    "    #plot_temperature_and_cost(temperatures, costs)\n",
    "\n",
    "    return best_route, best_cost, temperatures, costs"
   ]
  },
  {
   "cell_type": "code",
   "execution_count": 354,
   "metadata": {
    "ExecuteTime": {
     "end_time": "2024-12-01T21:41:23.588316Z",
     "start_time": "2024-12-01T21:41:23.579910Z"
    }
   },
   "outputs": [],
   "source": [
    "def simulated_annealing_do_n(distance_matrix, initial_temp, cooling_rate=0.995, max_iterations=1000, repeats=20):\n",
    "\n",
    "    \"\"\"\n",
    "    Perform Simulated Annealing multiple times and return the best result across all runs.\n",
    "\n",
    "    Parameters:\n",
    "    -----------\n",
    "    distance_matrix : ndarray\n",
    "        A square matrix where entry (i, j) represents the distance between city i and city j.\n",
    "    initial_temp : float\n",
    "        The initial temperature for the annealing process.\n",
    "    cooling_rate : float\n",
    "        The rate at which the temperature decreases, typically a value between 0 and 1.\n",
    "    max_iterations : int\n",
    "        The maximum number of iterations for each Simulated Annealing run.\n",
    "    repeats : int\n",
    "        The number of times to repeat the Simulated Annealing process.\n",
    "\n",
    "    Returns:\n",
    "    --------\n",
    "    best_tour : ndarray\n",
    "        The order of cities in the best (shortest) tour found across all runs.\n",
    "    best_distance : float\n",
    "        The total distance of the best tour.\n",
    "    best_temperatures : list\n",
    "        A list of temperature values from the best run, useful for analysis or plotting.\n",
    "    best_costs : list\n",
    "        A list of route costs (distances) from the best run, useful for analysis or plotting.\n",
    "\n",
    "    Notes:\n",
    "    ------\n",
    "    This method leverages the `simulated_annealing` function to perform individual optimization runs. \n",
    "    By repeating the process multiple times, it increases the likelihood of finding a globally optimal or near-optimal solution.\n",
    "    \"\"\"\n",
    "\n",
    "    results = [\n",
    "        simulated_annealing(distance_matrix, initial_temp, cooling_rate, max_iterations)\n",
    "        for _ in range(repeats)\n",
    "    ]\n",
    "\n",
    "    # Find the best result by minimizing the distance\n",
    "    best_tour, best_distance, best_temperatures, best_costs = min(results, key=lambda x: x[1])\n",
    "\n",
    "    return best_tour, best_distance, best_temperatures, best_costs"
   ]
  },
  {
   "cell_type": "markdown",
   "metadata": {},
   "source": [
    "The following functions may assist in visualizing results and debugging your programs."
   ]
  },
  {
   "cell_type": "code",
   "execution_count": 355,
   "metadata": {
    "ExecuteTime": {
     "end_time": "2024-12-01T21:41:23.597593Z",
     "start_time": "2024-12-01T21:41:23.589503Z"
    }
   },
   "outputs": [],
   "source": [
    "def plot_temperature_and_cost(temperatures, costs):\n",
    "\n",
    "    \"\"\"\n",
    "    Plot the temperature and cost values over iterations in a side-by-side graph.\n",
    "\n",
    "    Parameters:\n",
    "    -----------\n",
    "    temperatures : list or ndarray\n",
    "        A sequence of temperature values recorded at each iteration of an algorithm (e.g., Simulated Annealing).\n",
    "    costs : list or ndarray\n",
    "        A sequence of cost values (e.g., total distance or energy) recorded at each iteration.\n",
    "\n",
    "    Description:\n",
    "    ------------\n",
    "    This function generates two subplots:\n",
    "    1. **Temperature Over Iterations**: Plots how the temperature changes over time, which is useful for visualizing the cooling schedule in algorithms like Simulated Annealing.\n",
    "    2. **Cost Over Iterations**: Plots the cost (e.g., total distance in TSP) at each iteration, showing how the solution improves over time.\n",
    "\n",
    "    The plots are arranged side by side for easy comparison between the temperature schedule and the corresponding cost progression. The function adjusts the layout for better spacing and displays the combined figure.\n",
    "\n",
    "    Example:\n",
    "    --------\n",
    "    >>> plot_temperature_and_cost(temperatures, costs)\n",
    "\n",
    "    Notes:\n",
    "    ------\n",
    "    - Ensure that the lengths of `temperatures` and `costs` are equal, corresponding to the number of iterations.\n",
    "    - Requires `matplotlib.pyplot` as `plt` to be imported before calling this function.\n",
    "    \"\"\"\n",
    "    \n",
    "    # Plot temperature and cost graphs\n",
    "    plt.figure(figsize=(12, 5))\n",
    "\n",
    "    plt.subplot(1, 2, 1)\n",
    "    plt.plot(temperatures)\n",
    "    plt.title(\"Temperature Over Iterations\")\n",
    "    plt.xlabel(\"Iteration\")\n",
    "    plt.ylabel(\"Temperature\")\n",
    "\n",
    "    plt.subplot(1, 2, 2)\n",
    "    plt.plot(costs)\n",
    "    plt.title(\"Cost Over Iterations\")\n",
    "    plt.xlabel(\"Iteration\")\n",
    "    plt.ylabel(\"Cost\")\n",
    "\n",
    "    plt.tight_layout()\n",
    "    plt.show()"
   ]
  },
  {
   "cell_type": "markdown",
   "metadata": {},
   "source": [
    "### 1.3. Implement a solver for the TSP using Genetic Algorithm\n",
    "\n",
    "You will find below a partial implementation of a **Genetic Algorithm (GA)** to find an approximate solution to the TSP.\n",
    "\n",
    "The main steps of the algorithm are:\n",
    "\n",
    "1. **Initialization**: Create a random initial population of routes.\n",
    "2. **Evaluation**: Compute the fitness of individuals based on their route distances. (partial implementation)\n",
    "3. **Elitism**: Preserve the top-performing individuals for the next generation.\n",
    "4. **Selection**: Choose parents using tournament or roulette wheel selection.\n",
    "5. **Crossover**: Generate offspring by combining parents using a crossover operator. (partial implementation)\n",
    "6. **Mutation**: Introduce diversity by randomly mutating offspring. (partial implementation)\n",
    "7. **Replacement**: Combine elites and offspring to form the next generation.\n",
    "8. Repeat steps 2-7 for a fixed number of generations, tracking the best and average distances.\n",
    "\n",
    "Ensure that all generated solutions are valid tours, with each city visited exactly once.\n",
    "\n",
    "Specifically, you must implement `evaluate_fitness`, `crossover_operator`, `mutation`."
   ]
  },
  {
   "cell_type": "code",
   "execution_count": 356,
   "metadata": {
    "ExecuteTime": {
     "end_time": "2024-12-01T21:41:23.608046Z",
     "start_time": "2024-12-01T21:41:23.598752Z"
    }
   },
   "outputs": [],
   "source": [
    "def initialize_population(pop_size, num_cities):\n",
    "\n",
    "    \"\"\"\n",
    "    Generate an initial population of random routes for a Genetic Algorithm.\n",
    "\n",
    "    Parameters:\n",
    "    -----------\n",
    "    pop_size : int\n",
    "        The number of individuals (routes) in the population.\n",
    "    num_cities : int\n",
    "        The number of cities in the Traveling Salesman Problem (TSP).\n",
    "\n",
    "    Returns:\n",
    "    --------\n",
    "    population : ndarray\n",
    "        A 2D array of shape (pop_size, num_cities), where each row represents\n",
    "        a random permutation of city indices (a potential solution).\n",
    "\n",
    "    Description:\n",
    "    ------------\n",
    "    This function initializes a population by creating `pop_size` random permutations\n",
    "    of city indices, ensuring diversity in the initial solutions. Each individual\n",
    "    represents a valid route for the TSP.\n",
    "    \"\"\"\n",
    "    \n",
    "    return np.array([np.random.permutation(num_cities) for _ in range(pop_size)])"
   ]
  },
  {
   "cell_type": "markdown",
   "metadata": {},
   "source": [
    "Finalize the implementation of the `evaluate_fitness` method."
   ]
  },
  {
   "cell_type": "code",
   "execution_count": 357,
   "metadata": {
    "ExecuteTime": {
     "end_time": "2024-12-01T21:41:23.617609Z",
     "start_time": "2024-12-01T21:41:23.609197Z"
    }
   },
   "outputs": [],
   "source": [
    "def evaluate_fitness(population, distance_matrix):\n",
    "\n",
    "    \"\"\"\n",
    "    Evaluate the fitness of each individual in a population for a Genetic Algorithm.\n",
    "\n",
    "    Parameters:\n",
    "    -----------\n",
    "    population : ndarray\n",
    "        A 2D array where each row is an individual route (a permutation of city indices).\n",
    "    distance_matrix : ndarray\n",
    "        A square matrix where entry (i, j) represents the distance between city i and city j.\n",
    "\n",
    "    Returns:\n",
    "    --------\n",
    "    fitness : ndarray\n",
    "        A 1D array containing the fitness values for each individual in the population.\n",
    "        Fitness is calculated as the reciprocal of the total distance of the route.\n",
    "    total_distances : ndarray\n",
    "        A 1D array containing the total distances of the routes for each individual.\n",
    "\n",
    "    Description:\n",
    "    ------------\n",
    "    This function calculates:\n",
    "    1. The total distance of each individual's route by summing the distances between consecutive cities,\n",
    "       including the return to the starting city.\n",
    "    2. The fitness value for each individual as the reciprocal of its total distance\n",
    "       (with a small constant added to avoid division by zero).\n",
    "\n",
    "    Fitness values are higher for shorter routes, encouraging better solutions during selection.\n",
    "    \"\"\"\n",
    "\n",
    "    # Code goes here   \n",
    "    # Number of individuals in the population\n",
    "    num_individuals = population.shape[0]\n",
    "    \n",
    "    # Initialize array to store total distances\n",
    "    total_distances = np.zeros(num_individuals)\n",
    "    \n",
    "    # Loop through each individual in the population\n",
    "    for i, individual in enumerate(population):\n",
    "        # Calculate the total distance for the individual's route\n",
    "        route_distance = 0\n",
    "        for j in range(len(individual) - 1):\n",
    "            route_distance += distance_matrix[individual[j], individual[j + 1]]\n",
    "        # Add the distance for the return to the starting city\n",
    "        route_distance += distance_matrix[individual[-1], individual[0]]\n",
    "        total_distances[i] = route_distance\n",
    "\n",
    "    # Calculate fitness as the reciprocal of total distance (adding a small epsilon to avoid division by zero)\n",
    "    epsilon = 1e-6\n",
    "    fitness = 1 / (total_distances + epsilon)\n",
    "    \n",
    "    return fitness, total_distances"
   ]
  },
  {
   "cell_type": "code",
   "execution_count": 358,
   "metadata": {
    "ExecuteTime": {
     "end_time": "2024-12-01T21:41:23.627692Z",
     "start_time": "2024-12-01T21:41:23.618610Z"
    }
   },
   "outputs": [],
   "source": [
    "def tournament_selection(population, fitness, tournament_size):\n",
    "\n",
    "    \"\"\"\n",
    "    Perform tournament selection to choose individuals for the next generation in a Genetic Algorithm.\n",
    "\n",
    "    Parameters:\n",
    "    -----------\n",
    "    population : ndarray\n",
    "        A 2D array where each row represents an individual (a potential solution).\n",
    "    fitness : ndarray\n",
    "        A 1D array containing the fitness values of the individuals in the population.\n",
    "    tournament_size : int\n",
    "        The number of individuals randomly selected for each tournament.\n",
    "\n",
    "    Returns:\n",
    "    --------\n",
    "    selected_population : ndarray\n",
    "        A 2D array of the same shape as `population`, containing the selected individuals\n",
    "        for the next generation.\n",
    "\n",
    "    Description:\n",
    "    ------------\n",
    "    Tournament selection works as follows:\n",
    "    1. For each individual to be selected, randomly choose `tournament_size` participants from the population.\n",
    "    2. Compare their fitness values and select the individual with the highest fitness.\n",
    "    3. Repeat this process until a new population of the same size as the original is formed.\n",
    "\n",
    "    This method balances exploitation (choosing the best individuals) with exploration (random selection\n",
    "    of participants), allowing the algorithm to focus on high-quality solutions while maintaining diversity.\n",
    "    \"\"\"\n",
    "\n",
    "    pop_size = population.shape[0]\n",
    "    selected_indices = []\n",
    "    \n",
    "    for _ in range(pop_size):\n",
    "\n",
    "        participants = np.random.choice(pop_size, tournament_size, replace=False)\n",
    "        best = participants[np.argmax(fitness[participants])]\n",
    "        selected_indices.append(best)\n",
    "\n",
    "    return population[selected_indices]"
   ]
  },
  {
   "cell_type": "code",
   "execution_count": 359,
   "metadata": {
    "ExecuteTime": {
     "end_time": "2024-12-01T21:41:23.637828Z",
     "start_time": "2024-12-01T21:41:23.628791Z"
    }
   },
   "outputs": [],
   "source": [
    "def roulette_selection(population, fitness):\n",
    "\n",
    "    \"\"\"\n",
    "    Perform roulette wheel selection to choose individuals for the next generation in a Genetic Algorithm.\n",
    "\n",
    "    Parameters:\n",
    "    -----------\n",
    "    population : ndarray\n",
    "        A 2D array where each row represents an individual (a potential solution).\n",
    "    fitness : ndarray\n",
    "        A 1D array containing the fitness values of the individuals in the population.\n",
    "\n",
    "    Returns:\n",
    "    --------\n",
    "    selected_population : ndarray\n",
    "        A 2D array of the same shape as `population`, containing the selected individuals\n",
    "        for the next generation.\n",
    "\n",
    "    Description:\n",
    "    ------------\n",
    "    Roulette wheel selection assigns selection probabilities to individuals based on their fitness:\n",
    "    1. Compute the total fitness of the population.\n",
    "    2. Normalize fitness values to create probabilities for each individual.\n",
    "    3. Randomly select individuals from the population according to their probabilities.\n",
    "\n",
    "    This method favors individuals with higher fitness, increasing their likelihood of being selected,\n",
    "    while still allowing lower-fitness individuals a chance, maintaining genetic diversity.\n",
    "    \"\"\"\n",
    "\n",
    "    total_fitness = np.sum(fitness)\n",
    "    probabilities = fitness / total_fitness\n",
    "    pop_size = population.shape[0]\n",
    "    selected_indices = np.random.choice(pop_size, size=pop_size, p=probabilities)\n",
    "    \n",
    "    return population[selected_indices]"
   ]
  },
  {
   "cell_type": "markdown",
   "metadata": {},
   "source": [
    "Finalize the implementation of the `crossover_operator` method."
   ]
  },
  {
   "cell_type": "markdown",
   "metadata": {
    "collapsed": false
   },
   "source": [
    "We have chosen to use ordered cross-over in this function based on the advice seen in the following thread:\n",
    "\n",
    "https://stackoverflow.com/questions/1544055/crossover-operation-in-genetic-algorithm-for-tsp"
   ]
  },
  {
   "cell_type": "code",
   "execution_count": 360,
   "metadata": {
    "ExecuteTime": {
     "end_time": "2024-12-01T21:41:23.648795Z",
     "start_time": "2024-12-01T21:41:23.639102Z"
    }
   },
   "outputs": [],
   "source": [
    "def crossover_operator(parent1, parent2):\n",
    "\n",
    "    \"\"\"\n",
    "    Perform crossover to produce an offspring from two parent solutions.\n",
    "\n",
    "    Parameters:\n",
    "    -----------\n",
    "    parent1 : ndarray\n",
    "        A 1D array representing the first parent (a permutation of city indices).\n",
    "    parent2 : ndarray\n",
    "        A 1D array representing the second parent (a permutation of city indices).\n",
    "\n",
    "    Returns:\n",
    "    --------\n",
    "    child : ndarray\n",
    "        A 1D array representing the offspring, combining genetic material from both parents.\n",
    "\n",
    "    Description:\n",
    "    ------------\n",
    "        This function takes a random selection of info from parent1 and then fills out the\n",
    "        remaining sections that weren't selected from parent1 with info from parent2 to form \n",
    "        the child.\n",
    "    \"\"\"\n",
    "    # We start off by creating a child item that is the same size as the parent\n",
    "    child = [None for _ in range(len(parent1))]\n",
    "    # Next we randomly take a segment of info from parent1 and place it into child\n",
    "    start, end = sorted(np.random.choice(len(parent1), 2, replace=False))\n",
    "    child[start:end + 1] = parent1[start:end + 1]\n",
    "    # We then fill the remaining elements of the child list with parent2's info\n",
    "    p2_index = 0\n",
    "    for i in range(len(child)):\n",
    "        if child[i] is None:\n",
    "            while parent2[p2_index] in child:\n",
    "                p2_index = (p2_index + 1) % len(parent1)\n",
    "                if p2_index == 0:  # If we've cycled through all parent2, break\n",
    "                    break\n",
    "            \n",
    "\n",
    "            child[i] = parent2[p2_index]\n",
    "\n",
    "    return child    "
   ]
  },
  {
   "cell_type": "code",
   "execution_count": 361,
   "metadata": {
    "ExecuteTime": {
     "end_time": "2024-12-01T21:41:23.658821Z",
     "start_time": "2024-12-01T21:41:23.650028Z"
    }
   },
   "outputs": [],
   "source": [
    "def crossover(parents, crossover_rate):\n",
    "\n",
    "    \"\"\"\n",
    "    Perform crossover on a population of parent solutions to produce offspring for the next generation.\n",
    "\n",
    "    Parameters:\n",
    "    -----------\n",
    "    parents : ndarray\n",
    "        A 2D array where each row represents a parent solution (a permutation of city indices).\n",
    "    crossover_rate : float\n",
    "        The probability of applying crossover to a pair of parents (value between 0 and 1).\n",
    "\n",
    "    Returns:\n",
    "    --------\n",
    "    offspring : ndarray\n",
    "        A 2D array of the same shape as `parents`, containing the offspring produced by crossover.\n",
    "\n",
    "    Description:\n",
    "    ------------\n",
    "    This function generates offspring by pairing parents and applying a crossover operator:\n",
    "    1. Randomly shuffle the parents to create random pairs.\n",
    "    2. For each pair of parents, apply crossover with a probability defined by `crossover_rate`.\n",
    "       - If crossover occurs, use `crossover_operator` to produce two children.\n",
    "       - If not, directly copy the parents as the children.\n",
    "    3. Continue until all parents are processed, ensuring the offspring population size matches the original.\n",
    "\n",
    "    This approach maintains diversity while combining genetic material from pairs of parents to explore the search space.\n",
    "    \"\"\"\n",
    "\n",
    "    num_parents, num_genes = parents.shape\n",
    "    np.random.shuffle(parents)\n",
    "    offspring = []\n",
    "\n",
    "    for i in range(0, num_parents, 2):\n",
    "\n",
    "        parent1 = parents[i]\n",
    "        parent2 = parents[i + 1 if i + 1 < num_parents else 0]\n",
    "\n",
    "        if np.random.rand() < crossover_rate:\n",
    "            child1 = crossover_operator(parent1, parent2)\n",
    "            child2 = crossover_operator(parent2, parent1)\n",
    "        else:\n",
    "            child1 = parent1.copy()\n",
    "            child2 = parent2.copy()\n",
    "\n",
    "        offspring.append(child1)\n",
    "        offspring.append(child2)\n",
    "\n",
    "    return np.array(offspring)"
   ]
  },
  {
   "cell_type": "markdown",
   "metadata": {},
   "source": [
    "Finalize the implementation of the `mutation` method."
   ]
  },
  {
   "cell_type": "markdown",
   "metadata": {
    "collapsed": false
   },
   "source": [
    "The method we decided to use in our implementation of the Genetic Algorithm's TSP mutation function is the swap mutation strategy. The inspiration for this implementation was due to this article where the author used the same method to implement their function:\n",
    "\n",
    "https://towardsdatascience.com/evolution-of-a-salesman-a-complete-genetic-algorithm-tutorial-for-python-6fe5d2b3ca35"
   ]
  },
  {
   "cell_type": "code",
   "execution_count": 362,
   "metadata": {
    "ExecuteTime": {
     "end_time": "2024-12-01T21:41:23.669448Z",
     "start_time": "2024-12-01T21:41:23.659986Z"
    }
   },
   "outputs": [],
   "source": [
    "\n",
    "def mutation(offspring, mutation_rate):\n",
    "\n",
    "    \"\"\"\n",
    "    Apply mutation to a population of offspring.\n",
    "\n",
    "    Parameters:\n",
    "    -----------\n",
    "    offspring : ndarray\n",
    "        A 2D array where each row represents an offspring solution (a permutation of city indices).\n",
    "    mutation_rate : float\n",
    "        The probability of applying mutation to each offspring (value between 0 and 1).\n",
    "\n",
    "    Returns:\n",
    "    --------\n",
    "    offspring : ndarray\n",
    "        A 2D array of the same shape as the input, with mutations applied to some individuals.\n",
    "\n",
    "    Description:\n",
    "    ------------\n",
    "        This function implements the swap mutation strategy, where two cities are randomly swapped\n",
    "        so new genetic info can be introduced into the population, which could provoke the system\n",
    "        to search through the space in new ways to come up with better overall solutions.\n",
    "    \"\"\"\n",
    "    \n",
    "    # We begin by iterating through each offspring in the population\n",
    "    for i in range(offspring.shape[0]):\n",
    "        # We generate a random number. If it exceeds the mutation_rate we apply a mutation\n",
    "        if np.random.rand() < mutation_rate:\n",
    "            # Randomly selecting two cities to swap\n",
    "            c1, c2 = np.random.choice(offspring.shape[1], 2, replace=False)\n",
    "            # Swapping c1 and c2\n",
    "            offspring[i, c1], offspring[i, c2] = offspring[1, c2], offspring[i, c1]\n",
    "    return offspring"
   ]
  },
  {
   "cell_type": "code",
   "execution_count": 363,
   "metadata": {
    "ExecuteTime": {
     "end_time": "2024-12-01T21:41:23.683755Z",
     "start_time": "2024-12-01T21:41:23.670744Z"
    }
   },
   "outputs": [],
   "source": [
    "def elitism(population, fitness, elite_size):\n",
    "\n",
    "    \"\"\"\n",
    "    Retain the top-performing individuals in a population based on their fitness.\n",
    "\n",
    "    Parameters:\n",
    "    -----------\n",
    "    population : ndarray\n",
    "        A 2D array where each row represents an individual solution.\n",
    "    fitness : ndarray\n",
    "        A 1D array containing the fitness values of the individuals in the population.\n",
    "    elite_size : int\n",
    "        The number of top-performing individuals to retain.\n",
    "\n",
    "    Returns:\n",
    "    --------\n",
    "    elite_population : ndarray\n",
    "        A 2D array containing the `elite_size` individuals with the highest fitness.\n",
    "\n",
    "    Description:\n",
    "    ------------\n",
    "    This function implements elitism, which ensures that the best solutions are carried\n",
    "    over to the next generation without modification:\n",
    "    1. Sort the individuals in the population by their fitness values.\n",
    "    2. Select the indices of the top `elite_size` individuals.\n",
    "    3. Return the corresponding elite individuals from the population.\n",
    "\n",
    "    Elitism helps preserve high-quality solutions, improving the stability and convergence\n",
    "    of a Genetic Algorithm.\n",
    "    \"\"\"\n",
    "\n",
    "    elite_indices = np.argsort(fitness)[-elite_size:]\n",
    "\n",
    "    return population[elite_indices]"
   ]
  },
  {
   "cell_type": "code",
   "execution_count": 364,
   "metadata": {
    "ExecuteTime": {
     "end_time": "2024-12-01T21:41:23.694545Z",
     "start_time": "2024-12-01T21:41:23.684937Z"
    }
   },
   "outputs": [],
   "source": [
    "def genetic_algorithm(distance_matrix, pop_size=100, num_generations=200, crossover_rate=0.8,\n",
    "                      mutation_rate=0.05, elite_percent=0.02, selection_type='tournament', tournament_size=3):\n",
    "\n",
    "    \"\"\"\n",
    "    Solve the Traveling Salesman Problem (TSP) using a Genetic Algorithm (GA).\n",
    "\n",
    "    Parameters:\n",
    "    -----------\n",
    "    distance_matrix : ndarray\n",
    "        A square matrix where entry (i, j) represents the distance between city i and city j.\n",
    "    pop_size : int, optional\n",
    "        The size of the population (default: 100).\n",
    "    num_generations : int, optional\n",
    "        The number of generations to evolve (default: 200).\n",
    "    crossover_rate : float, optional\n",
    "        The probability of applying crossover to a pair of parents (default: 0.8).\n",
    "    mutation_rate : float, optional\n",
    "        The probability of mutating an offspring (default: 0.05).\n",
    "    elite_percent : float, optional\n",
    "        The fraction of the population to preserve as elites (default: 0.02).\n",
    "    selection_type : str, optional\n",
    "        The selection method to use ('tournament' or 'roulette', default: 'tournament').\n",
    "    tournament_size : int, optional\n",
    "        The number of participants in each tournament (used only for tournament selection, default: 3).\n",
    "\n",
    "    Returns:\n",
    "    --------\n",
    "    best_solution : ndarray\n",
    "        The order of cities in the best route found.\n",
    "    best_distance : float\n",
    "        The total distance of the best route.\n",
    "    average_distance_history : list\n",
    "        The average total distance of the population at each generation.\n",
    "    best_distance_history : list\n",
    "        The best total distance in the population at each generation.\n",
    "\n",
    "    Description:\n",
    "    ------------\n",
    "    This function implements a Genetic Algorithm (GA) to find an approximate solution to the TSP:\n",
    "    1. **Initialization**: Create a random initial population of routes.\n",
    "    2. **Evaluation**: Compute the fitness of individuals based on their route distances.\n",
    "    3. **Elitism**: Preserve the top-performing individuals for the next generation.\n",
    "    4. **Selection**: Choose parents using tournament or roulette wheel selection.\n",
    "    5. **Crossover**: Generate offspring by combining parents using a crossover operator.\n",
    "    6. **Mutation**: Introduce diversity by randomly mutating offspring.\n",
    "    7. **Replacement**: Combine elites and offspring to form the next generation.\n",
    "    8. Repeat steps 2-7 for a fixed number of generations, tracking the best and average distances.\n",
    "\n",
    "    At the end of the evolution process, the function returns the best solution found, along with metrics\n",
    "    for performance analysis over generations.\n",
    "\n",
    "    Notes:\n",
    "    ------\n",
    "    - The algorithm ensures the population size remains constant across generations.\n",
    "    - `selection_type` determines the strategy used for selecting parents (tournament is the default).\n",
    "    - The function can be customized further with different crossover and mutation operators.\n",
    "    \"\"\"\n",
    "\n",
    "    num_cities = distance_matrix.shape[0]\n",
    "\n",
    "    elite_size = max(1, int(pop_size * elite_percent))\n",
    "\n",
    "    population = initialize_population(pop_size, num_cities)\n",
    "\n",
    "    \n",
    "    average_distance_history = []\n",
    "\n",
    "    \n",
    "    best_distance_history = []\n",
    "\n",
    "    \n",
    "    \n",
    "    for generation in range(num_generations):\n",
    "\n",
    "        fitness, total_distances = evaluate_fitness(population, distance_matrix)\n",
    "\n",
    "        # Track average and best distances\n",
    "        average_distance = np.mean(total_distances)\n",
    "        best_distance = np.min(total_distances)\n",
    "        average_distance_history.append(average_distance)\n",
    "        best_distance_history.append(best_distance)\n",
    "\n",
    "        # Elitism\n",
    "        elites = elitism(population, fitness, elite_size)\n",
    "\n",
    "        # Selection\n",
    "        if selection_type == 'tournament':\n",
    "            parents = tournament_selection(population, fitness, tournament_size)\n",
    "        elif selection_type == 'roulette':\n",
    "            parents = roulette_selection(population, fitness)\n",
    "        else:\n",
    "            raise ValueError(\"Invalid selection type\")\n",
    "\n",
    "\n",
    "        # Crossover\n",
    "        offspring = crossover(parents, crossover_rate)\n",
    "\n",
    "\n",
    "        # Mutation\n",
    "        offspring = mutation(offspring, mutation_rate)\n",
    "\n",
    "\n",
    "        # Create new population\n",
    "        population = np.vstack((elites, offspring))\n",
    "\n",
    "\n",
    "        # Ensure population size\n",
    "        if population.shape[0] > pop_size:\n",
    "            population = population[:pop_size]\n",
    "\n",
    "        elif population.shape[0] < pop_size:\n",
    "\n",
    "            num_new_individuals = pop_size - population.shape[0]\n",
    "            new_individuals = initialize_population(num_new_individuals, num_cities)\n",
    "            population = np.vstack((population, new_individuals))\n",
    "\n",
    "    # Final evaluation to return the best solution\n",
    "    fitness, total_distances = evaluate_fitness(population, distance_matrix)\n",
    "    best_index = np.argmax(fitness)\n",
    "    best_solution = population[best_index]\n",
    "    best_distance = total_distances[best_index]\n",
    "    #plot_fitness_over_generations(average_distance_history,best_distance_history)\n",
    "\n",
    "    return best_solution, best_distance, average_distance_history, best_distance_history"
   ]
  },
  {
   "cell_type": "code",
   "execution_count": 365,
   "metadata": {
    "ExecuteTime": {
     "end_time": "2024-12-01T21:41:23.704343Z",
     "start_time": "2024-12-01T21:41:23.695662Z"
    }
   },
   "outputs": [],
   "source": [
    "def genetic_algorithm_do_n(distance_matrix, pop_size=100, num_generations=200, crossover_rate=0.8,\n",
    "                           mutation_rate=0.05, elite_percent=0.02, selection_type='tournament',\n",
    "                           tournament_size=3, repeats=20):\n",
    "\n",
    "    \"\"\"\n",
    "    Run the Genetic Algorithm multiple times and return the best solution across all runs.\n",
    "\n",
    "    Parameters:\n",
    "    -----------\n",
    "    distance_matrix : ndarray\n",
    "        A square matrix where entry (i, j) represents the distance between city i and city j.\n",
    "    pop_size : int, optional\n",
    "        The size of the population (default: 100).\n",
    "    num_generations : int, optional\n",
    "        The number of generations to evolve in each run (default: 200).\n",
    "    crossover_rate : float, optional\n",
    "        The probability of applying crossover to a pair of parents (default: 0.8).\n",
    "    mutation_rate : float, optional\n",
    "        The probability of mutating an offspring (default: 0.05).\n",
    "    elite_percent : float, optional\n",
    "        The fraction of the population to preserve as elites (default: 0.02).\n",
    "    selection_type : str, optional\n",
    "        The selection method to use ('tournament' or 'roulette', default: 'tournament').\n",
    "    tournament_size : int, optional\n",
    "        The number of participants in each tournament (used only for tournament selection, default: 3).\n",
    "    repeats : int, optional\n",
    "        The number of times to repeat the Genetic Algorithm (default: 20).\n",
    "\n",
    "    Returns:\n",
    "    --------\n",
    "    best_tour : ndarray\n",
    "        The order of cities in the best route found across all runs.\n",
    "    best_distance : float\n",
    "        The total distance of the best route across all runs.\n",
    "    best_averages : list\n",
    "        The average total distances of the population at each generation for the best run.\n",
    "    best_bests : list\n",
    "        The best total distances at each generation for the best run.\n",
    "\n",
    "    Description:\n",
    "    ------------\n",
    "    This function runs the Genetic Algorithm multiple times to improve the chances of finding a globally\n",
    "    optimal solution. For each run, the results are compared, and the best route and corresponding metrics\n",
    "    are retained. This approach leverages the stochastic nature of Genetic Algorithms to explore the solution\n",
    "    space more thoroughly.\n",
    "    \"\"\"\n",
    "\n",
    "    results = [\n",
    "        genetic_algorithm(distance_matrix, pop_size, num_generations, crossover_rate,\n",
    "                          mutation_rate, elite_percent, selection_type, tournament_size)\n",
    "        for _ in range(repeats)\n",
    "    ]\n",
    "    \n",
    "    best_tour, distance, averages, bests = min(results, key=lambda x: x[1])  # Minimize by total distance\n",
    "\n",
    "    return best_tour, distance, averages, bests\n"
   ]
  },
  {
   "cell_type": "markdown",
   "metadata": {},
   "source": [
    "The following function may assist in visualizing results and debugging your programs."
   ]
  },
  {
   "cell_type": "code",
   "execution_count": 366,
   "metadata": {
    "ExecuteTime": {
     "end_time": "2024-12-01T21:41:23.714337Z",
     "start_time": "2024-12-01T21:41:23.705465Z"
    }
   },
   "outputs": [],
   "source": [
    "def plot_fitness_over_generations(avg_distances, best_distances):\n",
    "\n",
    "    \"\"\"\n",
    "    Plot the average and best distances over generations in a Genetic Algorithm.\n",
    "\n",
    "    Parameters:\n",
    "    -----------\n",
    "    avg_distances : list or ndarray\n",
    "        A sequence of average distances of the population at each generation.\n",
    "    best_distances : list or ndarray\n",
    "        A sequence of the best (minimum) distances found at each generation.\n",
    "\n",
    "    Description:\n",
    "    ------------\n",
    "    This function generates a line plot to visualize how the average and best distances\n",
    "    evolve over the generations during the execution of a Genetic Algorithm. It helps in\n",
    "    understanding the convergence behavior and effectiveness of the algorithm.\n",
    "\n",
    "    - **X-axis**: Represents the generation number.\n",
    "    - **Y-axis**: Represents the distance (cost) values.\n",
    "    - **Curves**:\n",
    "        - *Average Distance*: Shows the average performance of the population at each generation.\n",
    "        - *Best Distance*: Highlights the best solution found up to that generation.\n",
    "\n",
    "    Example:\n",
    "    --------\n",
    "    >>> plot_fitness_over_generations(average_distance_history, best_distance_history)\n",
    "\n",
    "    Notes:\n",
    "    ------\n",
    "    - Ensure that `avg_distances` and `best_distances` are of the same length, corresponding to the number of generations.\n",
    "    - Requires `matplotlib.pyplot` as `plt` to be imported before calling this function.\n",
    "    - Call `plt.show()` if the plot does not display automatically in your environment.\n",
    "    \"\"\"\n",
    "    \n",
    "    # Plot the fitness over generations\n",
    "    generations = range(1, len(avg_distances) + 1)\n",
    "    plt.figure(figsize=(6, 6))\n",
    "\n",
    "    # Plot average and best distances over generations\n",
    "    plt.plot(generations, avg_distances, label='Average Distance')\n",
    "    plt.plot(generations, best_distances, label='Best Distance')\n",
    "    plt.xlabel('Generation')\n",
    "    plt.ylabel('Distance')\n",
    "    plt.title('Distance Over Generations')\n",
    "    plt.legend()\n",
    "    plt.show()"
   ]
  },
  {
   "cell_type": "markdown",
   "metadata": {},
   "source": [
    "<hr/>\n",
    "\n",
    "## 2. Experimentation"
   ]
  },
  {
   "cell_type": "markdown",
   "metadata": {},
   "source": [
    "### 2.1. Execute Each Algorithm on Both Datasets\n",
    "\n",
    "- Run the **Greedy Algorithm**, **Simulated Annealing**, and **Genetic Algorithm** on the `berlin52_24_4` and `st70_24_4` datasets separately.\n",
    "- Perform at least **10 independent runs** of each algorithm on each dataset to capture variability in performance.\n",
    "- For each run:\n",
    "  - Exectue **Greedy Algorithm** from each starting city.\n",
    "  - For **Simulated Annealing** and **Genetic Algorithm**, execute the algorithm for **100 iterations**.\n",
    "  - Record the following performance metrics:\n",
    "    - **Best Path Cost**: The lowest cost achieved for the tour.\n",
    "    - **Execution Time**: The total time taken by the algorithm to complete.\n",
    "\n",
    "- For each algorithm and each dataset, compute and report the average of the recorded metrics across all executions."
   ]
  },
  {
   "cell_type": "code",
   "execution_count": 367,
   "metadata": {
    "ExecuteTime": {
     "end_time": "2024-12-01T21:41:23.724456Z",
     "start_time": "2024-12-01T21:41:23.715409Z"
    }
   },
   "outputs": [],
   "source": [
    "def run_greedy_tsp(cities):\n",
    "    # Defining an array that will store the best costs we obtained\n",
    "    best_costs = []\n",
    "    # Defining an array that will store the time it took to run each iteration\n",
    "    times = []\n",
    "    # Getting the distance matrix so that we can compute the cost of the route\n",
    "    distances = get_distance_matrix(cities)\n",
    "    # Performing 10 independent runs\n",
    "    for _ in range(10):\n",
    "        current_best_cost = float('inf')\n",
    "        time1 = time.time()\n",
    "        # Running the greedy algorithm from each starting city\n",
    "        for i in range(len(cities)):\n",
    "            # Getting the tour info from tsp_greedy\n",
    "            city_order = tsp_greedy(cities, starting_city=i)\n",
    "            # Calculating the total cost of the tour\n",
    "            tour_cost = sum(distances[city_order[j]][city_order[j + 1]] for j in range(len(city_order) - 1))\n",
    "            # If the cost is lower than the current best, it becomes the new current best\n",
    "            current_best_cost = min(current_best_cost, tour_cost)\n",
    "        time2 = time.time()\n",
    "        best_costs.append(current_best_cost)\n",
    "        times.append(time2 - time1)\n",
    "    # Computing the best overall cost, the worst overall cost, and the average overall cost\n",
    "    print(f\"BEST COST: {np.min(best_costs)}\")\n",
    "    print(f\"WORST COST: {np.max(best_costs)}\")\n",
    "    print(f\"AVERAGE COST: {np.mean(best_costs)}\")\n",
    "    print(f\"AVERAGE TIME: {np.mean(times)}\")\n",
    "    return best_costs            "
   ]
  },
  {
   "cell_type": "code",
   "execution_count": 368,
   "metadata": {
    "ExecuteTime": {
     "end_time": "2024-12-01T21:41:23.949526Z",
     "start_time": "2024-12-01T21:41:23.725717Z"
    },
    "collapsed": false
   },
   "outputs": [
    {
     "name": "stdout",
     "output_type": "stream",
     "text": [
      "BEST COST: 7029.605933260265\n",
      "WORST COST: 7029.605933260265\n",
      "AVERAGE COST: 7029.605933260265\n",
      "AVERAGE TIME: 0.13291575908660888\n"
     ]
    }
   ],
   "source": [
    "costsGrB = run_greedy_tsp(berlin52_24_4)"
   ]
  },
  {
   "cell_type": "code",
   "execution_count": 369,
   "metadata": {
    "ExecuteTime": {
     "end_time": "2024-12-01T21:41:24.161515Z",
     "start_time": "2024-12-01T21:41:23.950700Z"
    },
    "collapsed": false
   },
   "outputs": [
    {
     "name": "stdout",
     "output_type": "stream",
     "text": [
      "BEST COST: 565.4375142594132\n",
      "WORST COST: 565.4375142594132\n",
      "AVERAGE COST: 565.4375142594133\n",
      "AVERAGE TIME: 0.09750909805297851\n"
     ]
    }
   ],
   "source": [
    "costsGrS = run_greedy_tsp(st70_24_4)"
   ]
  },
  {
   "cell_type": "code",
   "execution_count": 370,
   "metadata": {
    "ExecuteTime": {
     "end_time": "2024-12-01T21:41:24.166708Z",
     "start_time": "2024-12-01T21:41:24.163620Z"
    },
    "collapsed": false
   },
   "outputs": [],
   "source": [
    "def run_simulated_annealing_tsp(cities, cooling_rate=0.995, max_iterations=100):\n",
    "    # Defining an array that will store the best costs we obtained\n",
    "    best_costs = []\n",
    "    # Defining an array that will store the time it took to run each iteration\n",
    "    times = []\n",
    "    # Getting the distance matrix so that we can compute the cost of the route\n",
    "    distances = get_distance_matrix(cities)\n",
    "    # Performing 10 independent runs\n",
    "    for _ in range(10):\n",
    "        time1 = time.time()\n",
    "        # Computing the initial temperature\n",
    "        temp = get_initial_temperature(distances, max_iterations)\n",
    "        # Executing simulated annealing\n",
    "        _, best_cost, _, _ = simulated_annealing(distances, temp, cooling_rate, max_iterations)\n",
    "        best_costs.append(best_cost)\n",
    "        time2 = time.time()\n",
    "        times.append(time2 - time1)\n",
    "    # Computing the best overall cost, the worst overall cost, and the average overall cost\n",
    "    print(f\"BEST COST: {np.min(best_costs)}\")\n",
    "    print(f\"WORST COST: {np.max(best_costs)}\")\n",
    "    print(f\"AVERAGE COST: {np.mean(best_costs)}\")\n",
    "    print(f\"AVERAGE TIME: {np.mean(times)}\") \n",
    "    return best_costs       "
   ]
  },
  {
   "cell_type": "code",
   "execution_count": 371,
   "metadata": {
    "ExecuteTime": {
     "end_time": "2024-12-01T21:41:24.208306Z",
     "start_time": "2024-12-01T21:41:24.167617Z"
    },
    "collapsed": false
   },
   "outputs": [
    {
     "name": "stdout",
     "output_type": "stream",
     "text": [
      "BEST COST: 11871.48867968683\n",
      "WORST COST: 14070.226254818996\n",
      "AVERAGE COST: 13087.145505132643\n",
      "AVERAGE TIME: 0.013588786125183105\n"
     ]
    }
   ],
   "source": [
    "costsAnB = run_simulated_annealing_tsp(berlin52_24_4)"
   ]
  },
  {
   "cell_type": "code",
   "execution_count": 372,
   "metadata": {
    "ExecuteTime": {
     "end_time": "2024-12-01T21:41:24.248266Z",
     "start_time": "2024-12-01T21:41:24.209256Z"
    },
    "collapsed": false
   },
   "outputs": [
    {
     "name": "stdout",
     "output_type": "stream",
     "text": [
      "BEST COST: 1032.3401675693642\n",
      "WORST COST: 1224.2743840805488\n",
      "AVERAGE COST: 1139.8593786582605\n",
      "AVERAGE TIME: 0.015851688385009766\n"
     ]
    }
   ],
   "source": [
    "costsAnS = run_simulated_annealing_tsp(st70_24_4)"
   ]
  },
  {
   "cell_type": "code",
   "execution_count": 373,
   "metadata": {
    "ExecuteTime": {
     "end_time": "2024-12-01T21:41:24.252256Z",
     "start_time": "2024-12-01T21:41:24.249254Z"
    },
    "collapsed": false
   },
   "outputs": [],
   "source": [
    "def run_genetic_tsp(cities):\n",
    "    # Defining an array that will store the best costs we obtained\n",
    "    best_costs = []\n",
    "    # Defining an array that will store the time it took to run each iteration\n",
    "    times = []\n",
    "    # Getting the distance matrix so that we can compute the cost of the route\n",
    "    distances = get_distance_matrix(cities)\n",
    "    # Performing 10 independent runs\n",
    "\n",
    "    for _ in range(10):\n",
    "\n",
    "        time1 = time.time()\n",
    "        # Executing the genetic algorithm\n",
    "        _, best_cost, _, _ = genetic_algorithm(distances)\n",
    "        best_costs.append(best_cost)\n",
    "        time2 = time.time()\n",
    "        times.append(time2 - time1)\n",
    "    # Computing the best overall cost, the worst overall cost, and the average overall cost\n",
    "    print(f\"BEST COST: {np.min(best_costs)}\")\n",
    "    print(f\"WORST COST: {np.max(best_costs)}\")\n",
    "    print(f\"AVERAGE COST: {np.mean(best_costs)}\")\n",
    "    print(f\"AVERAGE TIME: {np.mean(times)}\") \n",
    "    return best_costs "
   ]
  },
  {
   "cell_type": "code",
   "execution_count": 374,
   "metadata": {
    "ExecuteTime": {
     "start_time": "2024-12-01T21:41:24.253125Z"
    },
    "collapsed": false,
    "is_executing": true
   },
   "outputs": [
    {
     "name": "stdout",
     "output_type": "stream",
     "text": [
      "BEST COST: 3061.7199410010094\n",
      "WORST COST: 5858.368436754497\n",
      "AVERAGE COST: 4791.041243133384\n",
      "AVERAGE TIME: 3.6467050075531007\n"
     ]
    }
   ],
   "source": [
    "costsGeB = run_genetic_tsp(berlin52_24_4)"
   ]
  },
  {
   "cell_type": "code",
   "execution_count": 375,
   "metadata": {
    "collapsed": false,
    "is_executing": true
   },
   "outputs": [
    {
     "name": "stdout",
     "output_type": "stream",
     "text": [
      "BEST COST: 352.7133813591657\n",
      "WORST COST: 571.2977222593407\n",
      "AVERAGE COST: 461.9203507261831\n",
      "AVERAGE TIME: 3.3365752935409545\n"
     ]
    }
   ],
   "source": [
    "costsGeS = run_genetic_tsp(st70_24_4)"
   ]
  },
  {
   "cell_type": "code",
   "execution_count": 378,
   "metadata": {},
   "outputs": [
    {
     "data": {
      "image/png": "[encoded data removed]",
      "text/plain": [
       "<Figure size 1200x500 with 2 Axes>"
      ]
     },
     "metadata": {},
     "output_type": "display_data"
    }
   ],
   "source": [
    "\n",
    "\n",
    "plt.figure(figsize=(12, 5))\n",
    "\n",
    "plt.subplot(1, 2, 1)\n",
    "plt.plot(costsGrB, label = \"Greedy\")\n",
    "plt.plot(costsAnB, label = \"Annealing\")\n",
    "plt.plot(costsGeB, label = \"Genetic\")\n",
    "plt.legend()\n",
    "plt.title(\"Berlin Cost Over Iterations\")\n",
    "plt.xlabel(\"Iteration\")\n",
    "plt.ylabel(\"Cost\")\n",
    "\n",
    "plt.subplot(1, 2, 2)\n",
    "plt.plot(costsGrS, label = \"Greedy\")\n",
    "plt.plot(costsAnS, label = \"Annealing\")\n",
    "plt.plot(costsGeS, label = \"Genetic\")\n",
    "plt.legend()\n",
    "plt.title(\"ST Cost Over Iterations\")\n",
    "plt.xlabel(\"Iteration\")\n",
    "plt.ylabel(\"Cost\")\n",
    "plt.tight_layout()\n",
    "plt.show()"
   ]
  },
  {
   "cell_type": "markdown",
   "metadata": {},
   "source": [
    "### 2.2. Results Discussion\n",
    "\n",
    "Conduct a thorough analysis of the algorithmic performance on the `berlin52_24_4` and `st70_24_4` datasets, addressing the following key points:\n",
    "\n",
    "1. **Performance Comparison**:\n",
    "\n",
    "   - Examine the **average best path costs** achieved by each algorithm on both datasets. Identify which algorithm most closely approximates the optimal solution.\n",
    "   - Discuss any observed performance differences between the datasets. Consider whether the size or complexity of a dataset influences the results.\n",
    "\n",
    "2. **Consistency**:\n",
    "\n",
    "   - Assess the variability of results across multiple runs for each algorithm. Determine whether the results are consistent or if there are significant fluctuations between executions.\n",
    "   - Note any trends or patterns in the solutions, such as whether an algorithm consistently yields higher costs or achieves faster execution times.\n",
    "\n",
    "3. **Efficiency**:\n",
    "\n",
    "   - Compare the **average execution times** of the algorithms. Identify the fastest and slowest algorithms, and consider any trade-offs between computational efficiency and solution quality.\n",
    "\n",
    "4. **Strengths and Weaknesses**:\n",
    "\n",
    "   - Highlight the strengths of each algorithm, such as speed, accuracy, or reliability.\n",
    "   - Discuss any limitations or weaknesses encountered during the experiments, including sensitivity to initialization, propensity to get trapped in local optima, or high computational demands.\n",
    "\n",
    "5. **Insights and Implications**:\n",
    "\n",
    "   - Summarize the key insights gained from the analysis. Consider what the results suggest about each algorithm's suitability for solving the TSP.\n",
    "   - Offer observations on how algorithm performance might scale with larger datasets.\n",
    "\n",
    "Enhance your discussion with tables, charts, or visualizations to clarify and emphasize your analysis."
   ]
  },
  {
   "cell_type": "markdown",
   "metadata": {},
   "source": [
    "Answer here:\n",
    "**berlin52-24-4**:\n",
    "   - Number of Cities: 24\n",
    "   - Optimal Solution Cost: **5890.92**\n",
    "\n",
    "**st70-24-4**:\n",
    "   - Number of Cities: 24\n",
    "   - Optimal Solution Cost: **468.88**\n",
    "\n",
    "1. **Performance Comparison**:\n",
    "   Average costs: BERLIN, STOCKHOLM\n",
    "      1. Greedy: 7029.605933260265 , 565.4375142594133\n",
    "      2. Annealing: 13146.583045046591 , 1082.0262254080865\n",
    "      3. Genetic: 4921.731318179727 , 451.75810040874313\n",
    "\n",
    "   From our implementation of the algorithms, it would seem that the Genetic algorithm is the one that represents the optimal solution the closest. Though it is cost effective, the algorithm requires much more time to go through each instance and may not be the optimal choice for the traveling salesman problem on a larger dataset.\n",
    "   As there is no randomness introduced in the Greedy algorithm, its best, average, and worst case results are all the same. The Annealing algorithm was the priciest by far in terms of cost, being almost double Greedy and triple Genetic, but it had the best runtime, approximately 10 times quicker than Greedy.\n",
    "\n",
    "2. **Consistency**:\n",
    "\n",
    "   [See above image for reference]\n",
    "   \n",
    "   From the results of running each algorithm ten times, the Greedy algorithm is the most consistant and there are no random variables introduced meaning the same instance of the algorithm gets run ten times. Annealing ultimately had less fluctuations than Genetic, however both fluctuate quite often. Annealing has about a 16% increase from best to worst cost whereas Genetic has about a 40% increase from best to worst cost.\n",
    "   As mentioned above, the performance times range from Annealing to Greedy to Genetic, with Annealing being the quickest at 0.1 secs, Greedy with 1 sec, and Genetic with approximately 30 secs for all ten iterations.\n",
    "   The costs go range in the opposite direction with Genetic being the most cost effective at ~4922, Greedy being a standard at ~7030, and Annealing being the worst with ~13146, all statistics representing the Berlin dataset with similar ratios for the ST one.\n",
    "\n",
    "3. **Efficiency**:\n",
    "\n",
    "   Average times: BERLIN, STOCKHOLM\n",
    "      1. Greedy: 0.13291575908660888 , 0.09750909805297851\n",
    "      2. Annealing: 0.013588786125183105 , 0.015851688385009766\n",
    "      3. Genetic: 3.6467050075531007 , 3.3365752935409545\n",
    "\n",
    "   \n",
    "   As mentioned above, the performance times range from Annealing to Greedy to Genetic, with Annealing being the quickest at 0.01 secs, Greedy with 0.1 sec, and Genetic with approximately 3 secs for an average iteration. This is opposite from the cost range for resources. Thus the trade off is that if you want randomness in your implementation you do not choose greedy though it is the most consistant. From there you choose the algorithm that best suits your needs, Annealing is the best as it fluctuates less, but uses copious resources in very little time. The best choise if you have access to those resources and need results quickly. However if you do not have access to those resources and are willing to spend a little more time to get results, then Genetic would be a perfectly acceptable choice.\n",
    "\n",
    "4. **Strengths and Weaknesses**:\n",
    "\n",
    "   Greedy Algorithm:\n",
    "      Strengths:\n",
    "         Consistency: Greedy always provides the same result, making it the most deterministic and predictable of the three algorithms.\n",
    "         Speed: It has a low computational demand and performs well in terms of runtime (~0.1 seconds on average).\n",
    "         Simplicity: The algorithm is straightforward and easy to implement.\n",
    "      Weaknesses:\n",
    "         Suboptimal Solutions: The lack of randomness or backtracking means it often finds suboptimal solutions, as it may get stuck in local optima.\n",
    "         Scalability: Its inability to explore alternative routes efficiently makes it less suitable for larger datasets or complex TSP instances.\n",
    "   Simulated Annealing:\n",
    "      Strengths:\n",
    "         Speed: It is the fastest among the three algorithms (~0.01 seconds on average), making it ideal for quick approximations.\n",
    "         Global Exploration: The probabilistic acceptance of worse solutions allows it to escape local optima, providing solutions that can sometimes outperform Greedy.\n",
    "      Weaknesses:\n",
    "         High Cost: Annealing produces the worst results in terms of cost (e.g., ~13,146 for Berlin), often far from the optimal solution.\n",
    "         Sensitivity to Parameters: Performance depends heavily on the cooling schedule and other hyperparameters, which may require fine-tuning for different datasets.\n",
    "         Less Consistency: Results fluctuate, though to a lesser extent than Genetic.\n",
    "   Genetic Algorithm:\n",
    "      Strengths:\n",
    "         Accuracy: Genetic provides the closest solutions to the optimal (e.g., ~4,922 for Berlin and ~451 for Stockholm).\n",
    "         Diversity: The algorithm's population-based approach ensures exploration of multiple solutions, reducing the chance of getting stuck in local optima.\n",
    "         Flexibility: It can adapt to various problem sizes and complexities with customizable operators like crossover and mutation.\n",
    "      Weaknesses:\n",
    "         Computational Demands: Genetic is the slowest (~3 seconds on average) and requires substantial resources for larger populations or many generations.\n",
    "         Consistency: Results can vary significantly between runs (~40% fluctuation in cost).\n",
    "         Complexity: Requires careful tuning of parameters (e.g., population size, mutation rate) and balancing elitism with exploration.\n",
    "\n",
    "5. **Insights and Implications**:\n",
    "\n",
    "   Algorithm Selection:\n",
    "\n",
    "      The Genetic Algorithm is the best choice for accuracy, as it consistently produces results closest to the optimal solution for the datasets tested (Berlin and Stockholm).\n",
    "      Simulated Annealing excels in speed, making it a good choice when computational time is critical, but it compromises on accuracy.\n",
    "      The Greedy Algorithm provides a middle ground for runtime but fails to achieve near-optimal results due to its deterministic nature.\n",
    "      Trade-offs:\n",
    "\n",
    "   There is a clear trade-off between accuracy and speed: Genetic prioritizes accuracy, Annealing prioritizes speed, and Greedy balances simplicity and predictability.\n",
    "   Resource Availability: Genetic is ideal for cases where computational resources and time are not constrained, while Annealing is better suited for quick approximations.\n",
    "\n",
    "Scalability to Larger Datasets:\n",
    "   Greedy:\n",
    "      Will continue to be quick but will likely produce increasingly suboptimal solutions as the problem size grows.\n",
    "      Its runtime scales polynomially, so it remains feasible for moderately larger datasets.\n",
    "   Simulated Annealing:\n",
    "      Can still provide quick solutions for larger datasets, but tuning the cooling schedule becomes more critical.\n",
    "      The risk of high-cost solutions may increase as the complexity grows.\n",
    "   Genetic Algorithm:\n",
    "      Computational time and memory requirements will increase significantly with larger datasets, especially as population size and generations need to grow to maintain diversity.\n",
    "      However, its population-based approach ensures it can still explore complex solution spaces, making it viable for larger TSP instances if resources permit.\n",
    "Final Recommendations:\n",
    "   Small to Medium Datasets:\n",
    "      Use Genetic Algorithm for accuracy or Simulated Annealing for speed.\n",
    "   Larger Datasets:\n",
    "      Consider combining approaches, e.g., using Simulated Annealing for quick initial solutions and Genetic Algorithm for refinement."
   ]
  },
  {
   "cell_type": "markdown",
   "metadata": {},
   "source": [
    "<hr/>\n",
    "\n",
    "## 3 Optional Bonus Question\n",
    "\n",
    "This question is optional and offers up to 5 bonus points for executing your program on the full datasets, `berlin52` and `st70`.\n",
    "\n",
    "Grading Rubric:\n",
    "\n",
    "- **5 points**: Both Simulated Annealing (SA) and Genetic Algorithm (GA) achieve the optimal solution for both datasets.\n",
    "- **4 points**: Both SA and GA achieve solutions within 5% of the optimal for both datasets.\n",
    "- **3 points**: Both SA and GA outperform greedy algorithms for both datasets.\n",
    "- **2 points**: Either SA or GA achieves the optimal solution for both datasets.\n",
    "- **1 point**: Either SA or GA outperforms greedy algorithms for both datasets.\n",
    "\n",
    "Include the necessary source code below to demonstrate your results. The base implementation of SA and GA should remain consistent with the main part of this assignment, with only input parameters varying."
   ]
  },
  {
   "cell_type": "markdown",
   "metadata": {},
   "source": [
    "**berlin52**:\n",
    "   - Number of Cities: 52\n",
    "   - Description: A medium-sized dataset with realistic spatial distribution of cities.\n",
    "   - Optimal Solution Cost: **7542**\n",
    "\n",
    "**st70**:\n",
    "   - Number of Cities: 70\n",
    "   - Description: A slightly larger dataset with increased complexity.\n",
    "   - Optimal Solution Cost: **675**"
   ]
  },
  {
   "cell_type": "code",
   "execution_count": 385,
   "metadata": {
    "is_executing": true
   },
   "outputs": [
    {
     "name": "stdout",
     "output_type": "stream",
     "text": [
      "Annealing Berlin\n"
     ]
    },
    {
     "name": "stderr",
     "output_type": "stream",
     "text": [
      "C:\\Users\\mikae\\AppData\\Local\\Temp\\ipykernel_14948\\2725005912.py:61: RuntimeWarning: overflow encountered in exp\n",
      "  if neighbor_cost < current_cost or np.random.rand() < np.exp(-(neighbor_cost - current_cost) / temperature):\n"
     ]
    },
    {
     "name": "stdout",
     "output_type": "stream",
     "text": [
      "BEST COST: 26159.634096654878\n",
      "WORST COST: 29005.60168247573\n",
      "AVERAGE COST: 27761.736506823323\n",
      "AVERAGE TIME: 0.03157675266265869\n",
      "Annealing ST\n",
      "BEST COST: 3140.9122946828056\n",
      "WORST COST: 3615.550960294852\n",
      "AVERAGE COST: 3404.8905560491053\n",
      "AVERAGE TIME: 0.03320291042327881\n",
      "Genetic Berlin\n",
      "BEST COST: 8980.460042387333\n",
      "WORST COST: 12037.190533544106\n",
      "AVERAGE COST: 10488.753414392142\n",
      "AVERAGE TIME: 11.040596628189087\n",
      "Genetic ST\n",
      "BEST COST: 1152.3302052106787\n",
      "WORST COST: 1577.9419738567565\n",
      "AVERAGE COST: 1345.3060862372538\n",
      "AVERAGE TIME: 13.945180940628052\n"
     ]
    },
    {
     "data": {
      "image/png": "[encoded data removed]",
      "text/plain": [
       "<Figure size 1200x500 with 2 Axes>"
      ]
     },
     "metadata": {},
     "output_type": "display_data"
    }
   ],
   "source": [
    "# Code goes here\n",
    "print(\"Annealing Berlin\")\n",
    "costAB = run_simulated_annealing_tsp(berlin52)\n",
    "print(\"Annealing ST\")\n",
    "costAS = run_simulated_annealing_tsp(st70)\n",
    "\n",
    "print(\"Genetic Berlin\")\n",
    "costGB = run_genetic_tsp(berlin52)\n",
    "print(\"Genetic ST\")\n",
    "costGS = run_genetic_tsp(st70)\n",
    "\n",
    "plt.figure(figsize=(12, 5))\n",
    "\n",
    "plt.subplot(1, 2, 1)\n",
    "plt.plot(costAB, label = \"Annealing\")\n",
    "plt.plot(costGB, label = \"Genetic\")\n",
    "plt.legend()\n",
    "plt.title(\"Berlin Cost Over Iterations\")\n",
    "plt.xlabel(\"Iteration\")\n",
    "plt.ylabel(\"Cost\")\n",
    "\n",
    "plt.subplot(1, 2, 2)\n",
    "\n",
    "plt.plot(costAS, label = \"Annealing\")\n",
    "plt.plot(costGS, label = \"Genetic\")\n",
    "plt.legend()\n",
    "plt.title(\"ST Cost Over Iterations\")\n",
    "plt.xlabel(\"Iteration\")\n",
    "plt.ylabel(\"Cost\")\n",
    "plt.tight_layout()\n",
    "plt.show()"
   ]
  },
  {
   "cell_type": "markdown",
   "metadata": {},
   "source": [
    "# Evaluation Criteria\n",
    "\n",
    "- **Overall Effort in the Report (10%)**\n",
    "  \n",
    "- **Greedy Algorithm Implementation (20%)**\n",
    "  \n",
    "- **Simulated Annealing Implementation (15%)**\n",
    "  \n",
    "- **Genetic Algorithm Implementation (30%)**\n",
    "  \n",
    "- **Execution (15%)**\n",
    "  \n",
    "- **Analysis of Results (10%)**\n",
    "\n",
    "# Resources\n",
    "\n",
    "https://www.w3schools.com/python/matplotlib_subplot.asp\n",
    "https://www.geeksforgeeks.org/plot-multiple-lines-in-matplotlib/\n",
    "https://www.geeksforgeeks.org/travelling-salesman-problem-greedy-approach/\n",
    "https://www.geeksforgeeks.org/hill-climbing-and-simulated-annealing-for-the-traveling-salesman-problem/\n",
    "https://www.geeksforgeeks.org/traveling-salesman-problem-using-genetic-algorithm/\n",
    "\n",
    "As for previous assignments, it is crucial to cite any sections of your code that are derived from external sources such as websites, textbooks, or other materials. This includes acknowledging libraries you have used, regardless of your prior familiarity with the concepts.\n",
    "\n",
    "The use of artificial intelligence to enhance programming productivity is increasingly common and expected to grow. While these technologies can be employed to assist with assignments, it is essential that you fully understand the evaluated concepts, as such tools will not be available during in-person assessments.\n",
    "\n",
    "If you utilize AI assistance, meticulously document your interactions. Include the tools and their versions in your report, accompanied by a transcript of all interactions. Most AI assistants maintain records of your conversations. It is advisable to create a new conversation specifically for the assignment and reuse this thread consistently throughout your work. Ensure this conversation focuses exclusively on the assignment. Include the conversation transcript in the reference section of your Jupyter Notebook.\n",
    "\n",
    "# Questions\n",
    "\n",
    "- You may post questions in the Assignment topic on the Brightspace discussion forum.\n",
    "\n",
    "- Alternatively, you can email one of the four teaching assistants. However, using the forum is strongly preferred as it allows all students to benefit from the questions and the teaching assistants' responses."
   ]
  }
 ],
 "metadata": {
  "kernelspec": {
   "display_name": "Python 3",
   "language": "python",
   "name": "python3"
  },
  "language_info": {
   "codemirror_mode": {
    "name": "ipython",
    "version": 3
   },
   "file_extension": ".py",
   "mimetype": "text/x-python",
   "name": "python",
   "nbconvert_exporter": "python",
   "pygments_lexer": "ipython3",
   "version": "3.12.1"
  }
 },
 "nbformat": 4,
 "nbformat_minor": 4
}
